{
 "cells": [
  {
   "cell_type": "markdown",
   "metadata": {},
   "source": [
    "# Herramientas de apoyo para el análisis y procesado de datos del secuenciador de ADN MinION\n",
    "\n",
    "**Autor:** Orlandy Ariel Sánchez Acosta.\n",
    "\n",
    "**Correo:** alu0100773408@ull.edu.es\n",
    "\n",
    "**Asignatura:** Trabajo de Fin de Grado."
   ]
  },
  {
   "cell_type": "markdown",
   "metadata": {},
   "source": [
    "** Este cuaderno se centrará en realizar uno de los filtros utilizados, en este caso el filtrado por calidades.**"
   ]
  },
  {
   "cell_type": "code",
   "execution_count": 1,
   "metadata": {},
   "outputs": [],
   "source": [
    "FICHERO_ENTRADA = \"DatosOriginales/secuencias_originales.fastq\" #FICHERO original\n",
    "#FICHERO_ENTRADA= \"DatosOriginales/SRR020192.fastq\"\n",
    "FORMATO = \"fastq\""
   ]
  },
  {
   "cell_type": "code",
   "execution_count": 2,
   "metadata": {},
   "outputs": [],
   "source": [
    "D_PORC_ATIPICOS = 5 #Esta variable será el porcentaje que se quiere quitar de datos atípicos\n",
    "IT_CONFIANZA = 0.95 # Esta variable será la utilizada para calcular el intervalo de confianza."
   ]
  },
  {
   "cell_type": "code",
   "execution_count": 3,
   "metadata": {},
   "outputs": [],
   "source": [
    "FICHERO_SALIDA_MALAS = \"Lecturas_malas.fastq\"\n",
    "FICHERO_SALIDA_BUENAS = \"Lecturas_buenas.fastq\""
   ]
  },
  {
   "cell_type": "code",
   "execution_count": 4,
   "metadata": {},
   "outputs": [],
   "source": [
    "PATH_SALIDA_CALIDAD = \"Salidas/Calidades/\""
   ]
  },
  {
   "cell_type": "markdown",
   "metadata": {},
   "source": [
    "## Librerías \n",
    "En caso de dudas o cualquier consulta sobre las librerías usadas, consultar los siguientes enlaces.\n",
    "* [Biopython](http://biopython.org/wiki/Documentation)\n",
    "* [Plotly](https://plot.ly/python/)\n",
    "* [Iteratools](https://docs.python.org/2/library/itertools.html)\n",
    "* [IPython](https://ipython.readthedocs.io/en/stable/install/install.html)\n",
    "* [Pandas](http://pandas.pydata.org/)\n",
    "* [NumPy](http://www.numpy.org/)\n",
    "\n",
    "A continuación, se pasará a importar todas las librerías/módulos que se utilizarán."
   ]
  },
  {
   "cell_type": "code",
   "execution_count": 5,
   "metadata": {},
   "outputs": [],
   "source": [
    "### Librería de BioInformática.\n",
    "from Bio import SeqIO\n",
    "from Bio.SeqUtils import GC\n",
    "### Librería para realizar los gráficos \n",
    "from plotly.offline import download_plotlyjs, init_notebook_mode, plot\n",
    "import plotly.graph_objs as go\n",
    "### Librerías de utilidades\n",
    "import numpy as np\n",
    "from IPython.display import Markdown,display, HTML\n",
    "from scipy.stats import norm\n",
    "### Librerías propias\n",
    "import GraficoDePuntos as gp\n",
    "import Utilidades as utile\n",
    "import UtilidadesParaArrays as arrUtile\n",
    "import PresentacionDatos as psd"
   ]
  },
  {
   "cell_type": "code",
   "execution_count": 6,
   "metadata": {},
   "outputs": [],
   "source": [
    "IT_CONFIANZA = norm.ppf(IT_CONFIANZA)"
   ]
  },
  {
   "cell_type": "code",
   "execution_count": 7,
   "metadata": {},
   "outputs": [],
   "source": [
    "c_externa_utile = utile.Utilidades() #llamada a una clase propia para realizar el porcentaje y las permutaciones.\n",
    "c_arrays_utile = arrUtile.UtilidadesParaArrays()\n",
    "c_psd = psd.PresentacionDatos()"
   ]
  },
  {
   "cell_type": "markdown",
   "metadata": {},
   "source": [
    "Definición de variables"
   ]
  },
  {
   "cell_type": "code",
   "execution_count": 8,
   "metadata": {},
   "outputs": [],
   "source": [
    "dic_cal_buenas = {}#diccionario que guarda, de forma clave:valor, la posición:suma de la calidad de la secuencia buena\n",
    "dic_cal_malas = {}#diccionario que guarda, de forma clave:valor, la posición:suma de la calidad de la secuencia mala."
   ]
  },
  {
   "cell_type": "markdown",
   "metadata": {},
   "source": [
    "## Lecturas de secuencias desde el fichero de entrada\n",
    "Carga las lecturas del fichero en un array, de manera que solo lea una vez del fichero."
   ]
  },
  {
   "cell_type": "code",
   "execution_count": 9,
   "metadata": {},
   "outputs": [],
   "source": [
    "fichero_de_secuencias = [rec for rec in SeqIO.parse(FICHERO_ENTRADA, FORMATO)]"
   ]
  },
  {
   "cell_type": "code",
   "execution_count": 10,
   "metadata": {},
   "outputs": [],
   "source": [
    "lecturas = [len(rec) for rec in fichero_de_secuencias]"
   ]
  },
  {
   "cell_type": "code",
   "execution_count": 11,
   "metadata": {},
   "outputs": [
    {
     "data": {
      "text/markdown": [
       "* **El fichero: **DatosOriginales/secuencias_originales.fastq"
      ],
      "text/plain": [
       "<IPython.core.display.Markdown object>"
      ]
     },
     "metadata": {},
     "output_type": "display_data"
    },
    {
     "data": {
      "text/markdown": [
       "* **Total de READS (lecturas):** 1171"
      ],
      "text/plain": [
       "<IPython.core.display.Markdown object>"
      ]
     },
     "metadata": {},
     "output_type": "display_data"
    },
    {
     "data": {
      "text/markdown": [
       "* **Los READS(lecturas) tiene un tamaño de entre: **47 y 185942"
      ],
      "text/plain": [
       "<IPython.core.display.Markdown object>"
      ]
     },
     "metadata": {},
     "output_type": "display_data"
    }
   ],
   "source": [
    "tamanio = len(lecturas)#total de lecturas del fichero\n",
    "minimo = min(lecturas)#lectrua más pequeña\n",
    "maximo = max(lecturas)#lectura más grande\n",
    "c_psd.printmd(\"* **El fichero: **%s\"%FICHERO_ENTRADA)\n",
    "c_psd.printmd(\"* **Total de READS (lecturas):** %i\"%tamanio)\n",
    "c_psd.printmd(\"* **Los READS(lecturas) tiene un tamaño de entre: **%i y %i\"%(minimo,maximo))"
   ]
  },
  {
   "cell_type": "markdown",
   "metadata": {},
   "source": [
    "# Filtro de calidades\n",
    "Las [calidades](https://en.wikipedia.org/wiki/Phred_quality_score) se indican en la 4ta linea de los ficheros [FASTQ](https://en.wikipedia.org/wiki/FASTQ_format), para obtenerlas BioPython las traduce de manera que nos devuelve un array. ([ir a la documentación de BioPython, apartado \"Variables Details\"](http://biopython.org/DIST/docs/api/Bio.SeqIO.QualityIO-module.html)).\n",
    "\n",
    "El filtrado se centrará en analizar las calidades de todas las lecturas y a partir de ellas se sacarán las peores, para su posterior comparación con las ya obtenidas anteriormente.\n",
    ">Procedimiento para sacar los posibles fallos según las calidades\n",
    "\n",
    ">* Se obtiene la media y la desviación estándar de las calidades de todas las lecturas.\n",
    ">* Se aplica _la formula **[ x̄ - 1.64 * σ ]**_ para sacar el límite inferior.\n",
    ">* Se busca cuales lecturas pasan o no el límite."
   ]
  },
  {
   "cell_type": "code",
   "execution_count": 12,
   "metadata": {},
   "outputs": [],
   "source": [
    "sec_a_quitar = c_externa_utile.porcentaje_inverso(D_PORC_ATIPICOS,tamanio)\n",
    "inicio = sec_a_quitar\n",
    "fin = (tamanio-inicio)"
   ]
  },
  {
   "cell_type": "code",
   "execution_count": 13,
   "metadata": {},
   "outputs": [],
   "source": [
    "array_cal_valores = sorted((np.mean(rec.letter_annotations[\"phred_quality\"])) for rec in fichero_de_secuencias)"
   ]
  },
  {
   "cell_type": "code",
   "execution_count": 14,
   "metadata": {},
   "outputs": [],
   "source": [
    "array_cal_valores = array_cal_valores[inicio:fin]"
   ]
  },
  {
   "cell_type": "code",
   "execution_count": 15,
   "metadata": {},
   "outputs": [],
   "source": [
    "med_calidad_rec = np.mean(array_cal_valores)\n",
    "dt_calidad_rec = np.std(array_cal_valores)"
   ]
  },
  {
   "cell_type": "code",
   "execution_count": 16,
   "metadata": {},
   "outputs": [],
   "source": [
    "limite_inferior_cal = med_calidad_rec - IT_CONFIANZA * dt_calidad_rec"
   ]
  },
  {
   "cell_type": "code",
   "execution_count": 17,
   "metadata": {},
   "outputs": [],
   "source": [
    "for  i, sec_cal in enumerate(fichero_de_secuencias):   \n",
    "    med_calidad = np.mean(sec_cal.letter_annotations[\"phred_quality\"])\n",
    "    if(med_calidad > limite_inferior_cal):\n",
    "        dic_cal_buenas[i] = med_calidad\n",
    "    else:\n",
    "        dic_cal_malas[i] = med_calidad"
   ]
  },
  {
   "cell_type": "code",
   "execution_count": 18,
   "metadata": {},
   "outputs": [],
   "source": [
    "titulo = \"Lectura de secuencias Calidades\"\n",
    "leyenda_b = \"% Calidades buenas\"\n",
    "leyenda_m = \"% Calidades malas\""
   ]
  },
  {
   "cell_type": "code",
   "execution_count": 19,
   "metadata": {},
   "outputs": [],
   "source": [
    "porc_bueno_cal = c_externa_utile.tanto_por_ciento(len(dic_cal_buenas),tamanio)"
   ]
  },
  {
   "cell_type": "code",
   "execution_count": 20,
   "metadata": {},
   "outputs": [],
   "source": [
    "titulo_nombre_fich = FICHERO_ENTRADA.split(\"/\")[1] #extraigo el nombre del fichero"
   ]
  },
  {
   "cell_type": "code",
   "execution_count": 21,
   "metadata": {},
   "outputs": [],
   "source": [
    "titulo_graf =\"<b> %s </b> </br> </br> <b>Fichero:</b> %s </br> %.2f%s </br>%.2f%s\"%(titulo,\n",
    "                                                             titulo_nombre_fich,\n",
    "                                                             porc_bueno_cal,\n",
    "                                                             leyenda_b,\n",
    "                                                             (100-porc_bueno_cal),\n",
    "                                                             leyenda_m)"
   ]
  },
  {
   "cell_type": "code",
   "execution_count": 22,
   "metadata": {},
   "outputs": [
    {
     "data": {
      "text/plain": [
       "'file://C:\\\\Users\\\\orlan\\\\Desktop\\\\TFG\\\\SalidasGraficas\\\\GraficoDePuntosCalidades.html'"
      ]
     },
     "execution_count": 22,
     "metadata": {},
     "output_type": "execute_result"
    }
   ],
   "source": [
    "grfPtoC = gp.GraficoDePuntos()\n",
    "graficoC = grfPtoC.crear_grafico_puntos(dic_cal_buenas,\n",
    "                                        dic_cal_malas,\n",
    "                                        titulo_graf,\n",
    "                                        'Posición de la secuencia',\n",
    "                                        'Media Calidad',\n",
    "                                        tamanio,\n",
    "                                        med_calidad_rec,\n",
    "                                        IT_CONFIANZA,\n",
    "                                        limite_inferior_cal\n",
    "                                       )\n",
    "eliminar_btn_barra  = grfPtoC.eliminar_btn_barra()\n",
    "plot(graficoC, \n",
    "     filename = 'SalidasGraficas/GraficoDePuntosCalidades.html',\n",
    "     auto_open=False,\n",
    "     config= eliminar_btn_barra\n",
    "    )"
   ]
  },
  {
   "cell_type": "code",
   "execution_count": 23,
   "metadata": {},
   "outputs": [
    {
     "data": {
      "text/html": [
       "<iframe src=SalidasGraficas/GraficoDePuntosCalidades.html width=100% height=550></iframe>"
      ],
      "text/plain": [
       "<IPython.core.display.HTML object>"
      ]
     },
     "execution_count": 23,
     "metadata": {},
     "output_type": "execute_result"
    }
   ],
   "source": [
    "HTML('<iframe src=SalidasGraficas/GraficoDePuntosCalidades.html width=100% height=550></iframe>')"
   ]
  },
  {
   "cell_type": "markdown",
   "metadata": {},
   "source": [
    "# Visualizar las secuencias que se detectan como error en las calidades\n",
    "\n",
    "Para ver las secuencias y comprobar que corresponde con los gráficos, se muestran los datos indicando la posición de la lectura, la secuencia y la media de las calidades."
   ]
  },
  {
   "cell_type": "raw",
   "metadata": {},
   "source": [
    "#Cambiar tipo de celda de Raw NBConvert a Code para ver las secuencias.\n",
    "for i, sec_cal in enumerate(fichero_de_secuencias): \n",
    "    for j, cal in dic_cal_malas.items():\n",
    "        if(i == j):\n",
    "            print (\"\\n----Inicio de la secuencia %i\"%(i))\n",
    "            print (sec_cal.seq)\n",
    "            print (\"Media calidad: \", cal)\n",
    "            print (\"Tamaño de la secuencia:%i\"%(len(sec_cal.seq)))\n",
    "            print (\"----Fin secuencia %i\"%(i))"
   ]
  },
  {
   "cell_type": "markdown",
   "metadata": {},
   "source": [
    "# Exportar resultados a ficheros FastQ\n",
    "* **Método de Calidades**\n",
    "    * Salidas/Calidades/\n",
    "    \n",
    ">**NOTA:** Dentro de cada uno de estos directorios se encontrará un fichero FastQ con las lecturas fallidas y otro con las lecturas buenas."
   ]
  },
  {
   "cell_type": "markdown",
   "metadata": {},
   "source": [
    "**1.Primero se extraen las posiciones de las lecturas, tanto buenas como fallidas, de los tres métodos.**"
   ]
  },
  {
   "cell_type": "code",
   "execution_count": 24,
   "metadata": {},
   "outputs": [],
   "source": [
    "a_cal_malas = c_arrays_utile.obtener_claves_dic(dic_cal_malas)\n",
    "a_cal_buenas = c_arrays_utile.obtener_claves_dic(dic_cal_buenas)"
   ]
  },
  {
   "cell_type": "markdown",
   "metadata": {},
   "source": [
    "**2.Se extraen las secuencias completas que se encuentran en las posiciones extraídas anteriormente.**"
   ]
  },
  {
   "cell_type": "code",
   "execution_count": 25,
   "metadata": {},
   "outputs": [],
   "source": [
    "a_sec_cal_malas = c_arrays_utile.obtener_array_sec(fichero_de_secuencias,a_cal_malas)\n",
    "a_sec_cal_buenas = c_arrays_utile.obtener_array_sec(fichero_de_secuencias,a_cal_buenas)"
   ]
  },
  {
   "cell_type": "markdown",
   "metadata": {},
   "source": [
    "**3.Se procede a guardar las secuencias en los distintos ficheros de salidas.**"
   ]
  },
  {
   "cell_type": "code",
   "execution_count": 26,
   "metadata": {},
   "outputs": [],
   "source": [
    "c_externa_utile.guardar_sec_fichero(PATH_SALIDA_CALIDAD+FICHERO_SALIDA_MALAS,\n",
    "                                    FORMATO,\n",
    "                                    a_sec_cal_malas)\n",
    "c_externa_utile.guardar_sec_fichero(PATH_SALIDA_CALIDAD+FICHERO_SALIDA_BUENAS,\n",
    "                                    FORMATO,\n",
    "                                    a_sec_cal_buenas)"
   ]
  }
 ],
 "metadata": {
  "kernelspec": {
   "display_name": "Python 3",
   "language": "python",
   "name": "python3"
  },
  "language_info": {
   "codemirror_mode": {
    "name": "ipython",
    "version": 3
   },
   "file_extension": ".py",
   "mimetype": "text/x-python",
   "name": "python",
   "nbconvert_exporter": "python",
   "pygments_lexer": "ipython3",
   "version": "3.5.4"
  }
 },
 "nbformat": 4,
 "nbformat_minor": 2
}
