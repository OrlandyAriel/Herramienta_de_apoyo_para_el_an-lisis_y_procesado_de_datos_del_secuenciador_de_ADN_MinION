{
 "cells": [
  {
   "cell_type": "markdown",
   "metadata": {},
   "source": [
    "# Herramientas de apoyo para el análisis y procesado de datos del secuenciador de ADN MinION\n",
    "\n",
    "**Autor:** Orlandy Ariel Sánchez Acosta.\n",
    "\n",
    "**Correo:** alu0100773408@ull.edu.es\n",
    "\n",
    "**Asignatura:** Trabajo de Fin de Grado."
   ]
  },
  {
   "cell_type": "markdown",
   "metadata": {},
   "source": [
    "**Este cuaderno está pensado para realizar búsquedas en BLAST, de manera que se pueda comprobar si existe similitud entre una secuencia que se le proporcione y otra/as de en la base de datos de BLAST.**"
   ]
  },
  {
   "cell_type": "code",
   "execution_count": 1,
   "metadata": {},
   "outputs": [],
   "source": [
    "FICHERO_ENTRADA = \"Salidas/Coincidencia/Lecturas_malas.fastq\"\n",
    "FORMATO_ENTRADA = \"fastq\"\n",
    "FICHERO_SALIDA = \"Salidas/Coincidencia/Lecturas_malas.fasta\"\n",
    "FORMATO_SALIDA = \"fasta\"\n",
    "#####\n",
    "PROGRAMA = \"blastn\"\n",
    "BASE_DE_DATOS = \"nr\""
   ]
  },
  {
   "cell_type": "markdown",
   "metadata": {},
   "source": [
    "# Comprobación con BLAST\n",
    "\n",
    "Ahora se pasará a comprobar que, de entre las secuencias que coinciden como error tanto en un filtrado como en el otro, la base de Datos [BLAST](https://blast.ncbi.nlm.nih.gov/Blast.cgi). Puesto que la api con la que cuenta Biopython no funciona como debería, se pasó a realizar una \"propia\" con la cual utilizando [Web Scraping](https://es.wikipedia.org/wiki/Web_scraping) y en combinación con la propia API web de BLAST, haciendo una combinación de estas se pudo realizar las peticiones a BLAST."
   ]
  },
  {
   "cell_type": "code",
   "execution_count": 2,
   "metadata": {},
   "outputs": [],
   "source": [
    "from modolos import putblast as put\n",
    "from modolos import getblast as get\n",
    "from Bio import SeqIO\n",
    "import time\n",
    "from modolos import Utilidades as utile"
   ]
  },
  {
   "cell_type": "markdown",
   "metadata": {},
   "source": [
    "# Librerías\n",
    "En caso de dudas o cualquier consulta sobre las librerías usadas, consultar los siguientes enlaces.\n",
    "* [Biopython](http://biopython.org/wiki/Documentation)\n",
    "* [Iteratools](https://docs.python.org/2/library/itertools.html)\n",
    "* [Peticiones BLAST](https://github.com/OrlandyAriel/BusquedaBLAST)\n",
    "* [Time](https://docs.python.org/2/library/time.html)"
   ]
  },
  {
   "cell_type": "code",
   "execution_count": 3,
   "metadata": {},
   "outputs": [],
   "source": [
    "utilidad = utile.Utilidades()\n",
    "peticionPut = put.PeticionPUTBlast()\n",
    "peticionGet = get.PeticionGETBlast()\n",
    "\n",
    "dic_rids = {} # diccionario donde se guardarán los rid's obtenidos de las busquedas en blast\n",
    "resultados = []"
   ]
  },
  {
   "cell_type": "code",
   "execution_count": 4,
   "metadata": {},
   "outputs": [],
   "source": [
    "utilidad.convertidor_formatos(FICHERO_ENTRADA,FORMATO_ENTRADA,FICHERO_SALIDA,FORMATO_SALIDA)"
   ]
  },
  {
   "cell_type": "code",
   "execution_count": 5,
   "metadata": {},
   "outputs": [
    {
     "name": "stdout",
     "output_type": "stream",
     "text": [
      "156\n"
     ]
    }
   ],
   "source": [
    "#Lectura del fichero .fasta\n",
    "fich_fasta  = [rec for rec in SeqIO.parse(FICHERO_SALIDA, FORMATO_SALIDA)]\n",
    "print(len(fich_fasta))"
   ]
  },
  {
   "cell_type": "code",
   "execution_count": 6,
   "metadata": {},
   "outputs": [],
   "source": [
    "for i, sec in enumerate(fich_fasta):\n",
    "    sec_formateada = sec.seq\n",
    "    if(len(sec_formateada) > 8000):\n",
    "        sec_formateada = sec_formateada[0:8000]\n",
    "    \n",
    "    \n",
    "    peticionPut.construir_peticion(sec_formateada,\n",
    "                                  BASE_DE_DATOS,\n",
    "                                  PROGRAMA)\n",
    "    peticionPut.realizar_peticion()\n",
    "    dic_rids[peticionPut.rid] = sec_formateada\n",
    "    time.sleep(11)\n"
   ]
  },
  {
   "cell_type": "markdown",
   "metadata": {},
   "source": [
    "> **Nota:** Tras realizar distintas pruebas se pudo llegar a la conclusión de que, para realizar las consultas, la secuencia no debe sobrepasar los 8100 caracteres, para no llegar hasta dicho extremo las secuencias la limitaremos a 8000 para evitar posibles errores. Además,g se añadió un tiempo de espera de 11 segundos para evitar que el servidor de BLAST detecte las peticiones como ataque y bloquee el acceso a esta desde la IP donde se está realizando las peticiones."
   ]
  },
  {
   "cell_type": "code",
   "execution_count": 7,
   "metadata": {},
   "outputs": [
    {
     "name": "stdout",
     "output_type": "stream",
     "text": [
      "156\n"
     ]
    }
   ],
   "source": [
    "print(len(dic_rids))"
   ]
  },
  {
   "cell_type": "code",
   "execution_count": 8,
   "metadata": {},
   "outputs": [],
   "source": [
    "resultados = []\n",
    "for rid, sec in dic_rids.items():\n",
    "    peticionGet.construir_peticion(rid)\n",
    "    resultados.append(peticionGet.realizar_peticion())"
   ]
  },
  {
   "cell_type": "code",
   "execution_count": null,
   "metadata": {},
   "outputs": [],
   "source": [
    "print(\"Errores detectados que NO encontró coincidencias en BLAST: \",resultados.count(False))\n",
    "print(\"Errores detectados que SI encontró coincidencias en BLAST: \",resultados.count(True))\n",
    "porcentaje = '{0:.2f}'.format((resultados.count(False) / len(resultados)) * 100)\n",
    "print(\"Porcentaje de acierto:\", porcentaje)\n",
    "p = 100- float(porcentaje)\n",
    "print(\"Porcentaje de errores:\",p)"
   ]
  }
 ],
 "metadata": {
  "kernelspec": {
   "display_name": "Python 3",
   "language": "python",
   "name": "python3"
  },
  "language_info": {
   "codemirror_mode": {
    "name": "ipython",
    "version": 3
   },
   "file_extension": ".py",
   "mimetype": "text/x-python",
   "name": "python",
   "nbconvert_exporter": "python",
   "pygments_lexer": "ipython3",
   "version": "3.5.4"
  }
 },
 "nbformat": 4,
 "nbformat_minor": 2
}
