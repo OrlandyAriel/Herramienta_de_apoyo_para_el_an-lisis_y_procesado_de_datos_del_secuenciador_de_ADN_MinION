{
 "cells": [
  {
   "cell_type": "markdown",
   "metadata": {},
   "source": [
    "# Herramientas de apoyo para el análisis y procesado de datos del secuenciador de ADN MinION\n",
    "\n",
    "**Autor:** Orlandy Ariel Sánchez Acosta.\n",
    "\n",
    "**Correo:** alu0100773408@ull.edu.es\n",
    "\n",
    "**Asignatura:** Trabajo de Fin de Grado."
   ]
  },
  {
   "cell_type": "markdown",
   "metadata": {},
   "source": [
    "** Este cuaderno se centrará en realizar uno de los filtros utilizados, en este caso el filtrado por contenido en GC.**"
   ]
  },
  {
   "cell_type": "code",
   "execution_count": null,
   "metadata": {},
   "outputs": [],
   "source": [
    "FICHERO_ENTRADA = \"DatosOriginales/secuencias_originales.fastq\" #FICHERO original\n",
    "FORMATO = \"fastq\""
   ]
  },
  {
   "cell_type": "code",
   "execution_count": null,
   "metadata": {},
   "outputs": [],
   "source": [
    "D_PORC_ATIPICOS = 5 #Esta variable será el porcentaje que se quiere quitar de datos atípicos\n",
    "IT_CONFIANZA = 0.95 # Esta variable será la utilizada para calcular el intervalo de confianza."
   ]
  },
  {
   "cell_type": "code",
   "execution_count": null,
   "metadata": {},
   "outputs": [],
   "source": [
    "FICHERO_SALIDA_MALAS = \"Lecturas_malas.fastq\"\n",
    "FICHERO_SALIDA_BUENAS = \"Lecturas_buenas.fastq\""
   ]
  },
  {
   "cell_type": "code",
   "execution_count": null,
   "metadata": {},
   "outputs": [],
   "source": [
    "PATH_SALIDA_GC = \"Salidas/ContenidoGC/\""
   ]
  },
  {
   "cell_type": "markdown",
   "metadata": {},
   "source": [
    "## Librerías \n",
    "En caso de dudas o cualquier consulta sobre las librerías usadas, consultar los siguientes enlaces.\n",
    "* [Biopython](http://biopython.org/wiki/Documentation)\n",
    "* [Plotly](https://plot.ly/python/)\n",
    "* [Iteratools](https://docs.python.org/2/library/itertools.html)\n",
    "* [IPython](https://ipython.readthedocs.io/en/stable/install/install.html)\n",
    "* [Pandas](http://pandas.pydata.org/)\n",
    "* [NumPy](http://www.numpy.org/)\n",
    "\n",
    "A continuación, se pasará a importar todas las librerías/módulos que se utilizarán."
   ]
  },
  {
   "cell_type": "code",
   "execution_count": 5,
   "metadata": {},
   "outputs": [],
   "source": [
    "### Librería de BioInformática.\n",
    "from Bio import SeqIO\n",
    "from Bio.SeqUtils import GC\n",
    "### Librería para realizar los gráficos \n",
    "from plotly.offline import download_plotlyjs, init_notebook_mode, plot\n",
    "import plotly.graph_objs as go\n",
    "### Librerías de utilidades\n",
    "import numpy as np\n",
    "from IPython.display import Markdown,display, HTML\n",
    "from scipy.stats import norm\n",
    "### Librerías propias\n",
    "import GraficoDePuntos as gp\n",
    "import Utilidades as utile\n",
    "import UtilidadesParaArrays as arrUtile\n",
    "import PresentacionDatos as psd"
   ]
  },
  {
   "cell_type": "code",
   "execution_count": 6,
   "metadata": {},
   "outputs": [],
   "source": [
    "IT_CONFIANZA = norm.ppf(IT_CONFIANZA)"
   ]
  },
  {
   "cell_type": "code",
   "execution_count": 7,
   "metadata": {},
   "outputs": [],
   "source": [
    "c_externa_utile = utile.Utilidades() #llamada a una clase propia para realizar el porcentaje y las permutaciones.\n",
    "c_arrays_utile = arrUtile.UtilidadesParaArrays()\n",
    "c_psd = psd.PresentacionDatos()"
   ]
  },
  {
   "cell_type": "markdown",
   "metadata": {},
   "source": [
    "## Lecturas de secuencias desde el fichero de entrada\n",
    "Carga las lecturas del fichero en un array, de manera que solo lea una vez del fichero."
   ]
  },
  {
   "cell_type": "code",
   "execution_count": 8,
   "metadata": {},
   "outputs": [],
   "source": [
    "fichero_de_secuencias = [rec for rec in SeqIO.parse(FICHERO_ENTRADA, FORMATO)]"
   ]
  },
  {
   "cell_type": "code",
   "execution_count": 9,
   "metadata": {},
   "outputs": [],
   "source": [
    "lecturas = [len(rec) for rec in fichero_de_secuencias]"
   ]
  },
  {
   "cell_type": "code",
   "execution_count": 10,
   "metadata": {},
   "outputs": [
    {
     "data": {
      "text/markdown": [
       "* **El fichero: **DatosOriginales/secuencias_originales.fastq"
      ],
      "text/plain": [
       "<IPython.core.display.Markdown object>"
      ]
     },
     "metadata": {},
     "output_type": "display_data"
    },
    {
     "data": {
      "text/markdown": [
       "* **Total de READS (lecturas):** 1171"
      ],
      "text/plain": [
       "<IPython.core.display.Markdown object>"
      ]
     },
     "metadata": {},
     "output_type": "display_data"
    },
    {
     "data": {
      "text/markdown": [
       "* **Los READS(lecturas) tiene un tamaño de entre: **47 y 185942"
      ],
      "text/plain": [
       "<IPython.core.display.Markdown object>"
      ]
     },
     "metadata": {},
     "output_type": "display_data"
    }
   ],
   "source": [
    "tamanio = len(lecturas)#total de lecturas del fichero\n",
    "minimo = min(lecturas)#lectrua más pequeña\n",
    "maximo = max(lecturas)#lectura más grande\n",
    "c_psd.printmd(\"* **El fichero: **%s\"%FICHERO_ENTRADA)\n",
    "c_psd.printmd(\"* **Total de READS (lecturas):** %i\"%tamanio)\n",
    "c_psd.printmd(\"* **Los READS(lecturas) tiene un tamaño de entre: **%i y %i\"%(minimo,maximo))"
   ]
  },
  {
   "cell_type": "markdown",
   "metadata": {},
   "source": [
    "# Contenido GC\n",
    "\n",
    "Contenido GC o Porcentaje GC (contenido de guanina y citosina) es una característica del genoma de un organismo o de cualquier pedazo de ADN o ARN. G y C denotan guanina y citosina, respectivamente. Expresado generalmente como porcentaje, representa la cantidad de pares Guanina-Citosina en la molécula de ADN o genoma que está siendo investigado. La fracción restante de cualquier molécula de ADN contendrá bases A (adenina) y T (timina), de forma que el contenido GC da también el contenido AT.\n",
    "[Leer más](https://es.wikipedia.org/wiki/Contenido_GC)"
   ]
  },
  {
   "cell_type": "code",
   "execution_count": 11,
   "metadata": {},
   "outputs": [],
   "source": [
    "dic_contenido_gc = {} # Diccionario en donde se guarda el contenido gc, de cada secuencia, calculado\n",
    "dic_gc_buenos = {} # diccionario que guarda solo el contenido gc de las secuencias que no tienen error\n",
    "dic_gc_malos = {} # diccionario que guarda solo el contenido gc de las secuencias que tienen error"
   ]
  },
  {
   "cell_type": "code",
   "execution_count": 12,
   "metadata": {},
   "outputs": [],
   "source": [
    "for i, secuencia in enumerate(fichero_de_secuencias):\n",
    "    #contenido en gc\n",
    "    dic_contenido_gc[i] = (GC(secuencia.seq))"
   ]
  },
  {
   "cell_type": "markdown",
   "metadata": {},
   "source": [
    "**array_gc_valores** guarda el _contenido GC_ ordenados de menor a mayor."
   ]
  },
  {
   "cell_type": "code",
   "execution_count": 13,
   "metadata": {},
   "outputs": [],
   "source": [
    "array_gc_valores = sorted(GC(rec.seq) for rec in fichero_de_secuencias)"
   ]
  },
  {
   "cell_type": "markdown",
   "metadata": {},
   "source": [
    "**sec_a_quitar ** se guarda el valor obtenido de porcentaje _ inverso() que no es más que el número de secuencias que se va a quitar para la media recortada."
   ]
  },
  {
   "cell_type": "code",
   "execution_count": 14,
   "metadata": {},
   "outputs": [],
   "source": [
    "sec_a_quitar = c_externa_utile.porcentaje_inverso(D_PORC_ATIPICOS,tamanio)"
   ]
  },
  {
   "cell_type": "markdown",
   "metadata": {},
   "source": [
    "**inicio** y **fin** es la posición de inicio y final que tendrá el array ->**array_gc_val_recortados** creado a partir de **array_gc_valores**"
   ]
  },
  {
   "cell_type": "code",
   "execution_count": 15,
   "metadata": {},
   "outputs": [],
   "source": [
    "inicio = sec_a_quitar\n",
    "fin = (tamanio-inicio)"
   ]
  },
  {
   "cell_type": "code",
   "execution_count": 16,
   "metadata": {},
   "outputs": [],
   "source": [
    "array_gc_val_recortados = array_gc_valores[inicio:fin]"
   ]
  },
  {
   "cell_type": "markdown",
   "metadata": {},
   "source": [
    "**med_recortada_gc** y **dt_recortada_gc** son, respectivamente, la media y la desviación típica o estándar del array **array_gc_val_recortados**"
   ]
  },
  {
   "cell_type": "code",
   "execution_count": 17,
   "metadata": {},
   "outputs": [],
   "source": [
    "med_recortada_gc = np.mean(array_gc_val_recortados)\n",
    "dt_recortada_gc = np.std(array_gc_val_recortados)"
   ]
  },
  {
   "cell_type": "markdown",
   "metadata": {},
   "source": [
    "Se preparan los diccionarios **dic_gc_buenos** y **dic_gc_malos** en los que se guardarán el contenido gc y la posición que pasen el filtro **[ nt ± IT_CONFIANZA * σ ] ** y los que no respectivamente.\n",
    ">**Nota:** nt = media recortada"
   ]
  },
  {
   "cell_type": "code",
   "execution_count": 18,
   "metadata": {},
   "outputs": [],
   "source": [
    "limite_superior = med_recortada_gc + IT_CONFIANZA * dt_recortada_gc\n",
    "limite_inferior = med_recortada_gc - IT_CONFIANZA * dt_recortada_gc"
   ]
  },
  {
   "cell_type": "code",
   "execution_count": 19,
   "metadata": {},
   "outputs": [],
   "source": [
    "for clave, valor in dic_contenido_gc.items():\n",
    "    if(valor >= limite_inferior\n",
    "      and valor <= limite_superior):\n",
    "        dic_gc_buenos[clave] = valor\n",
    "    else:\n",
    "        dic_gc_malos[clave] = valor"
   ]
  },
  {
   "cell_type": "code",
   "execution_count": 20,
   "metadata": {},
   "outputs": [],
   "source": [
    "titulo = \"Lectura de secuencias Contenido GC\"\n",
    "leyenda_b = \"% Contenido GC bueno\"\n",
    "leyenda_m = \"% Contenido GC malo\""
   ]
  },
  {
   "cell_type": "code",
   "execution_count": 21,
   "metadata": {},
   "outputs": [],
   "source": [
    "porc_buenos_gc = c_externa_utile.tanto_por_ciento(len(dic_gc_buenos),tamanio)"
   ]
  },
  {
   "cell_type": "code",
   "execution_count": 22,
   "metadata": {},
   "outputs": [],
   "source": [
    "titulo_nombre_fich = FICHERO_ENTRADA.split(\"/\")[1] #extraigo el nombre del fichero"
   ]
  },
  {
   "cell_type": "code",
   "execution_count": 23,
   "metadata": {},
   "outputs": [],
   "source": [
    "titulo_graf =\"<b> %s </b></br></br> <b>Fichero:</b> %s </br> %.2f%s </br>%.2f%s\"%(titulo,\n",
    "                                                             titulo_nombre_fich,\n",
    "                                                             porc_buenos_gc,\n",
    "                                                             leyenda_b,\n",
    "                                                             (100-porc_buenos_gc),\n",
    "                                                             leyenda_m)"
   ]
  },
  {
   "cell_type": "code",
   "execution_count": 24,
   "metadata": {},
   "outputs": [
    {
     "data": {
      "text/plain": [
       "'file://C:\\\\Users\\\\orlan\\\\Desktop\\\\TFG\\\\SalidasGraficas\\\\GraficoDePuntosGC.html'"
      ]
     },
     "execution_count": 24,
     "metadata": {},
     "output_type": "execute_result"
    }
   ],
   "source": [
    "grfPto=gp.GraficoDePuntos()\n",
    "grafico = grfPto.crear_grafico_puntos(\n",
    "                                    dic_gc_buenos,\n",
    "                                    dic_gc_malos,\n",
    "                                    titulo_graf,\n",
    "                                    'Posición de la secuencia',\n",
    "                                    \"Contenido GC\",\n",
    "                                    tamanio,\n",
    "                                    med_recortada_gc,\n",
    "                                    IT_CONFIANZA,\n",
    "                                    limite_inferior,\n",
    "                                    limite_superior\n",
    "                                   )\n",
    "eliminar_btn_barra  = grfPto.eliminar_btn_barra()\n",
    "plot(grafico,\n",
    "     filename = 'SalidasGraficas/GraficoDePuntosGC.html',\n",
    "     auto_open=False,\n",
    "     config= eliminar_btn_barra\n",
    "    )"
   ]
  },
  {
   "cell_type": "code",
   "execution_count": 25,
   "metadata": {},
   "outputs": [
    {
     "data": {
      "text/html": [
       "<iframe src=SalidasGraficas/GraficoDePuntosGC.html width=100% height=550></iframe>"
      ],
      "text/plain": [
       "<IPython.core.display.HTML object>"
      ]
     },
     "execution_count": 25,
     "metadata": {},
     "output_type": "execute_result"
    }
   ],
   "source": [
    "HTML('<iframe src=SalidasGraficas/GraficoDePuntosGC.html width=100% height=550></iframe>')"
   ]
  },
  {
   "cell_type": "markdown",
   "metadata": {},
   "source": [
    "# Visualizar las secuencias que se detectan como error en el contenido GC\n",
    "\n",
    "Para ver las secuencias y comprobar que corresponde con los gráficos, se muestran los datos indicando la posición de la lectura, la secuencia y el contenido GC."
   ]
  },
  {
   "cell_type": "raw",
   "metadata": {},
   "source": [
    "# Cambiar tipo de celda de Raw NBConvert a Code para ver las secuencias.\n",
    "for i, sec_cont_gc in enumerate(fichero_de_secuencias): \n",
    "    for j, cont_GC in dic_gc_malos.items():\n",
    "        if(i == j):\n",
    "            print (\"\\n----Inicio de la secuencia %i\"%(i))\n",
    "            print (sec_cont_gc.seq)\n",
    "            print (\"Contenido GC: \", cont_GC)\n",
    "            print (\"Tamaño de la secuencia:%i\"%(len(sec_cont_gc.seq)))\n",
    "            print (\"----Fin secuencia %i\"%(i))"
   ]
  },
  {
   "cell_type": "markdown",
   "metadata": {},
   "source": [
    "# Exportar resultados a ficheros FastQ\n",
    "A continuación, se guardarán los resultados obtenidos en la siguiente jerarquía de directorios:\n",
    "* **Método de Contenido GC**\n",
    "    * Salidas/ContenidoGC/\n",
    "\n",
    ">**NOTA:** Dentro de cada uno de estos directorios se encontrará un fichero FastQ con las lecturas fallidas y otro con las lecturas buenas."
   ]
  },
  {
   "cell_type": "markdown",
   "metadata": {},
   "source": [
    "**1.Primero se extraen las posiciones de las lecturas, tanto buenas como fallidas, de los tres métodos.**"
   ]
  },
  {
   "cell_type": "code",
   "execution_count": 26,
   "metadata": {},
   "outputs": [],
   "source": [
    "a_gc_malos = c_arrays_utile.obtener_claves_dic(dic_gc_malos)\n",
    "a_gc_buenos = c_arrays_utile.obtener_claves_dic(dic_gc_buenos)"
   ]
  },
  {
   "cell_type": "markdown",
   "metadata": {},
   "source": [
    "**2.Se extraen las secuencias completas que se encuentran en las posiciones extraídas anteriormente.**"
   ]
  },
  {
   "cell_type": "code",
   "execution_count": 27,
   "metadata": {},
   "outputs": [],
   "source": [
    "a_sec_gc_malos = c_arrays_utile.obtener_array_sec(fichero_de_secuencias,a_gc_malos)\n",
    "a_sec_gc_buenos = c_arrays_utile.obtener_array_sec(fichero_de_secuencias,a_gc_buenos)"
   ]
  },
  {
   "cell_type": "markdown",
   "metadata": {},
   "source": [
    "**3.Se procede a guardar las secuencias en los distintos ficheros de salidas.**"
   ]
  },
  {
   "cell_type": "code",
   "execution_count": 28,
   "metadata": {},
   "outputs": [],
   "source": [
    "c_externa_utile.guardar_sec_fichero(PATH_SALIDA_GC+FICHERO_SALIDA_MALAS,\n",
    "                                    FORMATO,\n",
    "                                    a_sec_gc_malos)\n",
    "c_externa_utile.guardar_sec_fichero(PATH_SALIDA_GC+FICHERO_SALIDA_BUENAS,\n",
    "                                    FORMATO,\n",
    "                                    a_sec_gc_buenos)"
   ]
  }
 ],
 "metadata": {
  "kernelspec": {
   "display_name": "Python 3",
   "language": "python",
   "name": "python3"
  },
  "language_info": {
   "codemirror_mode": {
    "name": "ipython",
    "version": 3
   },
   "file_extension": ".py",
   "mimetype": "text/x-python",
   "name": "python",
   "nbconvert_exporter": "python",
   "pygments_lexer": "ipython3",
   "version": "3.5.4"
  }
 },
 "nbformat": 4,
 "nbformat_minor": 2
}
